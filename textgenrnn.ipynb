{
 "cells": [
  {
   "cell_type": "code",
   "execution_count": 4,
   "metadata": {},
   "outputs": [],
   "source": [
    "from textgenrnn import textgenrnn\n",
    "\n",
    "textgen = textgenrnn()\n",
    "textgen2 = textgenrnn()\n",
    "textgen.reset()"
   ]
  },
  {
   "cell_type": "code",
   "execution_count": 9,
   "metadata": {
    "scrolled": true
   },
   "outputs": [
    {
     "name": "stdout",
     "output_type": "stream",
     "text": [
      "331 texts collected.\n",
      "Training on 3,113 character sequences.\n",
      "Epoch 1/10\n",
      "24/24 [==============================] - 0s 13ms/step - loss: 2.0130\n",
      "Epoch 2/10\n",
      "24/24 [==============================] - 0s 13ms/step - loss: 1.8116\n",
      "Epoch 3/10\n",
      "24/24 [==============================] - 0s 13ms/step - loss: 1.6106: 0s - loss: 1.\n",
      "Epoch 4/10\n",
      "24/24 [==============================] - 0s 13ms/step - loss: 1.4440\n",
      "Epoch 5/10\n",
      "24/24 [==============================] - 0s 13ms/step - loss: 1.3172\n",
      "####################\n",
      "Temperature: 0.2\n",
      "####################\n",
      "sickmandia\n",
      "\n",
      "santle\n",
      "\n",
      "scharivi\n",
      "\n",
      "####################\n",
      "Temperature: 0.5\n",
      "####################\n",
      "snootle\n",
      "\n",
      "fardingalla\n",
      "\n",
      "allocophiletta\n",
      "\n",
      "####################\n",
      "Temperature: 1.0\n",
      "####################\n",
      "purimops\n",
      "\n",
      "sozzle\n",
      "\n",
      "santle\n",
      "\n",
      "Epoch 6/10\n",
      "24/24 [==============================] - 0s 13ms/step - loss: 1.2128\n",
      "Epoch 7/10\n",
      "24/24 [==============================] - 0s 13ms/step - loss: 1.1369\n",
      "Epoch 8/10\n",
      "24/24 [==============================] - 0s 13ms/step - loss: 1.0838: 0s - loss: 1.07\n",
      "Epoch 9/10\n",
      "24/24 [==============================] - 0s 13ms/step - loss: 1.0362\n",
      "Epoch 10/10\n",
      "24/24 [==============================] - 0s 13ms/step - loss: 1.0052\n",
      "####################\n",
      "Temperature: 0.2\n",
      "####################\n",
      "schanzize\n",
      "\n",
      "schanzize\n",
      "\n",
      "schanzizen\n",
      "\n",
      "####################\n",
      "Temperature: 0.5\n",
      "####################\n",
      "stumber\n",
      "\n",
      "sandacks\n",
      "\n",
      "schope\n",
      "\n",
      "####################\n",
      "Temperature: 1.0\n",
      "####################\n",
      "waldle\n",
      "\n",
      "debere popoll\n",
      "\n",
      "thoesting\n",
      "\n"
     ]
    }
   ],
   "source": [
    "textgen.train_from_file(\"balderdash.txt\", num_epochs=10, gen_epochs=5)"
   ]
  },
  {
   "cell_type": "code",
   "execution_count": 5,
   "metadata": {},
   "outputs": [
    {
     "name": "stdout",
     "output_type": "stream",
     "text": [
      "172 texts collected.\n",
      "Training on 4,562 character sequences.\n",
      "Epoch 1/5\n",
      "35/35 [==============================] - 1s 28ms/step - loss: 1.9076\n",
      "Epoch 2/5\n",
      "35/35 [==============================] - 0s 13ms/step - loss: 1.2193\n",
      "Epoch 3/5\n",
      "35/35 [==============================] - 0s 13ms/step - loss: 0.9861\n",
      "Epoch 4/5\n",
      "35/35 [==============================] - 0s 13ms/step - loss: 0.8510: 0s - loss: 0\n",
      "Epoch 5/5\n",
      "35/35 [==============================] - 0s 13ms/step - loss: 0.7639\n",
      "####################\n",
      "Temperature: 0.2\n",
      "####################\n",
      "The Man (1960)\n",
      "\n",
      "The Space (1959)\n",
      "\n",
      "The Santand (1959)\n",
      "\n",
      "####################\n",
      "Temperature: 0.5\n",
      "####################\n",
      "The Man (1950)\n",
      "\n",
      "The Skilian (1958)\n",
      "\n",
      "The Sinister The Beginstones (1955)\n",
      "\n",
      "####################\n",
      "Temperature: 1.0\n",
      "####################\n",
      "Future Moland (1956)\n",
      "\n",
      "The Ritciss of Faither (1965)\n",
      "\n",
      "Robot (1958)\n",
      "\n"
     ]
    }
   ],
   "source": [
    "textgen2.train_from_file(\"mst3k.txt\", num_epochs=5, gen_epochs=5)"
   ]
  },
  {
   "cell_type": "code",
   "execution_count": 6,
   "metadata": {},
   "outputs": [
    {
     "name": "stdout",
     "output_type": "stream",
     "text": [
      "Service (1966)\n",
      "\n",
      "Warra Creature (1965)\n",
      "\n",
      "The Strange Slip (1961)\n",
      "\n",
      "Mobody (1966)\n",
      "\n",
      "The Lunion of the Giant My Bride (1956)\n",
      "\n",
      "Pailing of the Deathstorth (1959)\n",
      "\n",
      "Spider Wild Wouldn't World (1973)\n",
      "\n",
      "Godzilla Earth Corpse (1956)\n",
      "\n",
      "Gunslinged Master (1956)\n",
      "\n",
      "Ruster Vs. the Man Wild Help (1959)\n",
      "\n",
      "Attack of the Space (1942)\n",
      "\n",
      "Dunger (1988)\n",
      "\n",
      "Santa World (1959)\n",
      "\n",
      "The Deadly Handson (1960)\n",
      "\n",
      "The Space of the Yammy V.19000\n",
      "\n",
      "Rocket People (1970)\n",
      "\n",
      "Robot Colossus (1995)\n",
      "\n",
      "Horror of Planet Beach (1957)\n",
      "\n",
      "Randers Hobot Creatures II (1959)\n",
      "\n",
      "Errorlin and the Creeping Planet (1958)\n",
      "\n"
     ]
    }
   ],
   "source": [
    "textgen2.generate(n= 20, temperature=0.8)"
   ]
  },
  {
   "cell_type": "code",
   "execution_count": 10,
   "metadata": {},
   "outputs": [
    {
     "name": "stdout",
     "output_type": "stream",
     "text": [
      "fiefer\n",
      "\n",
      "myaricus\n",
      "\n",
      "scipe\n",
      "\n",
      "sougara\n",
      "\n",
      "schuntugile\n",
      "\n",
      "golil\n",
      "\n",
      "firumogia\n",
      "\n",
      "schopz\n",
      "\n",
      "scarpetti\n",
      "\n",
      "widdershant\n",
      "\n",
      "spong\n",
      "\n",
      "istobust\n",
      "\n",
      "googarium\n",
      "\n",
      "batteshul\n",
      "\n",
      "bartlings\n",
      "\n",
      "sport\n",
      "\n",
      "garouge\n",
      "\n",
      "allocochick\n",
      "\n",
      "hirkacks\n",
      "\n",
      "bwerophobia\n",
      "\n"
     ]
    }
   ],
   "source": [
    "textgen.generate(n=20, temperature=0.75)"
   ]
  }
 ],
 "metadata": {
  "kernelspec": {
   "display_name": "Python 3",
   "language": "python",
   "name": "python3"
  },
  "language_info": {
   "codemirror_mode": {
    "name": "ipython",
    "version": 3
   },
   "file_extension": ".py",
   "mimetype": "text/x-python",
   "name": "python",
   "nbconvert_exporter": "python",
   "pygments_lexer": "ipython3",
   "version": "3.6.7"
  }
 },
 "nbformat": 4,
 "nbformat_minor": 2
}
